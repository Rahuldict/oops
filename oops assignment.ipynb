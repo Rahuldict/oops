{
 "cells": [
  {
   "cell_type": "code",
   "execution_count": 1,
   "id": "6fe19cd4-073b-455b-8fc3-4680f483ccef",
   "metadata": {},
   "outputs": [],
   "source": [
    "#Q1. Explain Class and Object with respect to Object-Oriented Programming. Give a suitable example."
   ]
  },
  {
   "cell_type": "code",
   "execution_count": 6,
   "id": "a4516c06-8819-4560-8d29-79085cd786fc",
   "metadata": {},
   "outputs": [
    {
     "data": {
      "text/plain": [
       "'ans = A class is a blueprint or template that defines the attributes and behaviors of a group of similar objects. An object is an instance or a specific example of a class that has its own state and behavior. For example, a class can be defined as Animal, which has attributes like name, age, color, and behaviors like eat, sleep, run. An object can be an instance of Animal class, such as a dog, which has its own values for the attributes and can perform the behaviors defined by the class'"
      ]
     },
     "execution_count": 6,
     "metadata": {},
     "output_type": "execute_result"
    }
   ],
   "source": [
    "'''ans = A class is a blueprint or template that defines the attributes and behaviors of a group of similar objects. An object is an instance or a specific example of a class that has its own state and behavior. For example, a class can be defined as Animal, which has attributes like name, age, color, and behaviors like eat, sleep, run. An object can be an instance of Animal class, such as a dog, which has its own values for the attributes and can perform the behaviors defined by the class'''"
   ]
  },
  {
   "cell_type": "code",
   "execution_count": 7,
   "id": "ca4a0a5d-6cda-4594-8255-3f939a9a576d",
   "metadata": {},
   "outputs": [],
   "source": [
    "#Q2. Name the four pillars of OOPs."
   ]
  },
  {
   "cell_type": "code",
   "execution_count": 8,
   "id": "023d8aa2-c680-4245-a0dd-d000261cdccd",
   "metadata": {},
   "outputs": [
    {
     "data": {
      "text/plain": [
       "'Abstraction: It is the process of hiding the unnecessary details and showing only the essential features of an object or a system.\\nEncapsulation: It is the process of bundling the data and the methods that operate on them together in a single unit, such as a class.\\nInheritance: It is the process of acquiring the properties and behaviors of one class (parent or base class) by another class (child or derived class).\\nPolymorphism: It is the ability of an object to take different forms or behave differently depending on the context or situation'"
      ]
     },
     "execution_count": 8,
     "metadata": {},
     "output_type": "execute_result"
    }
   ],
   "source": [
    "'''Abstraction: It is the process of hiding the unnecessary details and showing only the essential features of an object or a system.\n",
    "Encapsulation: It is the process of bundling the data and the methods that operate on them together in a single unit, such as a class.\n",
    "Inheritance: It is the process of acquiring the properties and behaviors of one class (parent or base class) by another class (child or derived class).\n",
    "Polymorphism: It is the ability of an object to take different forms or behave differently depending on the context or situation'''"
   ]
  },
  {
   "cell_type": "code",
   "execution_count": 9,
   "id": "d36cc18c-e62e-4293-84b9-19b2a0f7148b",
   "metadata": {},
   "outputs": [],
   "source": [
    "#Q3. Explain why the __init__() function is used. Give a suitable example"
   ]
  },
  {
   "cell_type": "code",
   "execution_count": 23,
   "id": "1a3808ca-da4a-4805-9e53-30f13da9e3aa",
   "metadata": {},
   "outputs": [],
   "source": [
    "class Student:\n",
    "  \n",
    "    def __init__(self, name, roll_no):\n",
    "        self.name = name\n",
    "        self.roll_no = roll_no\n",
    "\n",
    "     "
   ]
  },
  {
   "cell_type": "code",
   "execution_count": 28,
   "id": "f78a7b3d-cab1-4579-8ef1-5755b932866c",
   "metadata": {},
   "outputs": [],
   "source": [
    "s1 = Student(\"Alice\", 101) \n",
    "s2 = Student(\"Bob\", 102)"
   ]
  },
  {
   "cell_type": "code",
   "execution_count": 33,
   "id": "3a61be02-2286-4d00-b3e5-a33ee68c98f3",
   "metadata": {},
   "outputs": [
    {
     "data": {
      "text/plain": [
       "(<__main__.Student at 0x7f71a044e650>, <__main__.Student at 0x7f71a044e7d0>)"
      ]
     },
     "execution_count": 33,
     "metadata": {},
     "output_type": "execute_result"
    }
   ],
   "source": [
    "s1,s2"
   ]
  },
  {
   "cell_type": "code",
   "execution_count": 34,
   "id": "a9d46d27-90c0-4572-a236-a42d5df39177",
   "metadata": {},
   "outputs": [],
   "source": [
    "#Q4. Why self is used in OOPs?"
   ]
  },
  {
   "cell_type": "code",
   "execution_count": 37,
   "id": "8ad26616-e71c-4bd5-96e8-8a3e959098c5",
   "metadata": {},
   "outputs": [],
   "source": [
    "class Circle:\n",
    "  \n",
    "    def __init__(self, radius):\n",
    "        self.radius = radius # assigning radius attribute to the object\n",
    "\n",
    "    def area(self):\n",
    "        return 3.14 * self.radius**2 # using self to access radius attribute\n",
    "\n",
    "c1 = Circle(5) # creating an object with radius 5\n",
    "c2 = Circle(10) # creating another object with radius 10\n"
   ]
  },
  {
   "cell_type": "code",
   "execution_count": 38,
   "id": "35cc0799-36f6-4961-851b-fa3bbc85629c",
   "metadata": {},
   "outputs": [
    {
     "name": "stdout",
     "output_type": "stream",
     "text": [
      "78.5\n",
      "314.0\n"
     ]
    }
   ],
   "source": [
    "\n",
    "print(c1.area()) \n",
    "print(c2.area())\n"
   ]
  },
  {
   "cell_type": "code",
   "execution_count": 39,
   "id": "ba8cced5-9401-493d-9fae-8871cf57d0d1",
   "metadata": {},
   "outputs": [],
   "source": [
    "#Q5. What is inheritance? Give an example for each type of inheritance."
   ]
  },
  {
   "cell_type": "code",
   "execution_count": 40,
   "id": "eb058d8c-c14c-4639-923b-2bf6d82a628e",
   "metadata": {},
   "outputs": [
    {
     "data": {
      "text/plain": [
       "'Single inheritance: When a child class inherits from only one parent class.\\nMultiple inheritance: When a child class inherits from more than one parent class.\\nMultilevel inheritance: When a child class inherits from a parent class, which in turn inherits from another parent class.\\nHierarchical inheritance: When more than one child class inherits from a single parent class.\\nHybrid inheritance: When a combination of different types of inheritance is use'"
      ]
     },
     "execution_count": 40,
     "metadata": {},
     "output_type": "execute_result"
    }
   ],
   "source": [
    "'''Single inheritance: When a child class inherits from only one parent class.\n",
    "Multiple inheritance: When a child class inherits from more than one parent class.\n",
    "Multilevel inheritance: When a child class inherits from a parent class, which in turn inherits from another parent class.\n",
    "Hierarchical inheritance: When more than one child class inherits from a single parent class.\n",
    "Hybrid inheritance: When a combination of different types of inheritance is use'''"
   ]
  },
  {
   "cell_type": "code",
   "execution_count": 41,
   "id": "ebb48e9b-31a0-4c0a-a36f-ded003cdd2d1",
   "metadata": {},
   "outputs": [
    {
     "name": "stdout",
     "output_type": "stream",
     "text": [
      "Animal eats\n",
      "Dog barks\n",
      "Method A\n",
      "Method B\n",
      "Method C\n",
      "Method X\n",
      "Method Y\n",
      "Method Z\n",
      "Method P\n",
      "Method Q\n",
      "Method P\n",
      "Method R\n",
      "Method M\n",
      "Method N\n",
      "Method O\n",
      "Method P\n"
     ]
    }
   ],
   "source": [
    "# single inheritance\n",
    "class Animal:\n",
    "   def eat(self):\n",
    "    print(\"Animal eats\")\n",
    "\n",
    "class Dog(Animal): # Dog inherits from Animal\n",
    "  def bark(self):\n",
    "    print(\"Dog barks\")\n",
    "\n",
    "d = Dog()\n",
    "d.eat() # Dog can access eat method from Animal\n",
    "d.bark() # Dog can also access bark method from itself\n",
    "\n",
    "# multiple inheritance\n",
    "class A:\n",
    "  def method_a(self):\n",
    "    print(\"Method A\")\n",
    "\n",
    "class B:\n",
    "  def method_b(self):\n",
    "    print(\"Method B\")\n",
    "\n",
    "class C(A,B): # C inherits from both A and B\n",
    "  def method_c(self):\n",
    "    print(\"Method C\")\n",
    "\n",
    "c = C()\n",
    "c.method_a() # C can access method_a from A\n",
    "c.method_b() # C can also access method_b from B\n",
    "c.method_c() # C can also access method_c from itself\n",
    "\n",
    "# multilevel inheritance\n",
    "class X:\n",
    "  def method_x(self):\n",
    "    print(\"Method X\")\n",
    "\n",
    "class Y(X): # Y inherits from X\n",
    "  def method_y(self):\n",
    "    print(\"Method Y\")\n",
    "\n",
    "class Z(Y): # Z inherits from Y, which inherits from X\n",
    "  def method_z(self):\n",
    "    print(\"Method Z\")\n",
    "\n",
    "z = Z()\n",
    "z.method_x() # Z can access method_x from X\n",
    "z.method_y() # Z can also access method_y from Y\n",
    "z.method_z() # Z can also access method_z from itself\n",
    "\n",
    "# hierarchical inheritance\n",
    "class P:\n",
    "  def method_p(self):\n",
    "    print(\"Method P\")\n",
    "\n",
    "class Q(P): # Q inherits from P\n",
    "  def method_q(self):\n",
    "    print(\"Method Q\")\n",
    "\n",
    "class R(P): # R also inherits from P\n",
    "  def method_r(self):\n",
    "    print(\"Method R\")\n",
    "\n",
    "q = Q()\n",
    "q.method_p() # Q can access method_p from P\n",
    "q.method_q() # Q can also access method_q from itself\n",
    "\n",
    "r = R()\n",
    "r.method_p() # R can also access method_p from P\n",
    "r.method_r() # R can also access method_r from itself\n",
    "\n",
    "# hybrid inheritance\n",
    "class M:\n",
    "  def method_m(self):\n",
    "    print(\"Method M\")\n",
    "\n",
    "class N(M): # N inherits from M (single inheritance)\n",
    "  def method_n(self):\n",
    "    print(\"Method N\")\n",
    "\n",
    "class O(M): # O also inherits from M (single inheritance)\n",
    "  def method_o(self):\n",
    "    print(\"Method O\")\n",
    "\n",
    "class P(N,O): # P inherits from both N and O (multiple inheritance)\n",
    "  def method_p(self):\n",
    "    print(\"Method P\")\n",
    "\n",
    "p = P()\n",
    "p.method_m() # P can access method_m from M\n",
    "p.method_n() # P can also access method_n from N\n",
    "p.method_o() # P can also access method_o from O\n",
    "p.method_p() # P can also access method_p from itself\n"
   ]
  },
  {
   "cell_type": "code",
   "execution_count": null,
   "id": "f52fc324-37ab-435a-a48b-9aa9717f0126",
   "metadata": {},
   "outputs": [],
   "source": []
  }
 ],
 "metadata": {
  "kernelspec": {
   "display_name": "Python 3 (ipykernel)",
   "language": "python",
   "name": "python3"
  },
  "language_info": {
   "codemirror_mode": {
    "name": "ipython",
    "version": 3
   },
   "file_extension": ".py",
   "mimetype": "text/x-python",
   "name": "python",
   "nbconvert_exporter": "python",
   "pygments_lexer": "ipython3",
   "version": "3.10.8"
  }
 },
 "nbformat": 4,
 "nbformat_minor": 5
}
